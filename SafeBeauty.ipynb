{
 "cells": [
  {
   "cell_type": "markdown",
   "metadata": {
    "id": "v6Z9wnGD1Nye"
   },
   "source": [
    "# Safe Beauty\n",
    "\n",
    "> In 2005, California implemented the California Safe Cosmetics Program (CSCP) law, which requires companies to report potentially harmful ingredients. The CSCP database has over 370,000 records with detailed information. </br>\n",
    "> This report focuses on companies that eliminate harmful ingredients from their products and provides a tool to check if your favorite brand is part of this effort to achieve Safe Beauty.\n",
    "\n",
    "####Is there a correlation between a cosmetic company's brand value or market presence and its ability to adjust its products and comply with CSCP regulations regarding the elimination of ingredients harmful to human health?\n",
    "\n",
    "To perform the analysis, I will use the official database published by the state of California on the exclusive program website. It can be downloaded from here > https://www.cdph.ca.gov/Programs/CCDPHP/DEODC/OHB/CSCP/Pages/CSCP.aspx\n"
   ]
  },
  {
   "cell_type": "code",
   "execution_count": 1,
   "metadata": {
    "id": "vaCD_oCW1I1t"
   },
   "outputs": [],
   "source": [
    "# Import libraries\n",
    "import numpy as np\n",
    "import pandas as pd\n",
    "import matplotlib.pyplot as plt\n",
    "import seaborn as sns"
   ]
  },
  {
   "cell_type": "code",
   "execution_count": 3,
   "metadata": {
    "colab": {
     "base_uri": "https://localhost:8080/",
     "height": 451
    },
    "id": "3DWTo0Pj2yNR",
    "outputId": "87ff080b-b6da-425e-8ff1-da254a344390"
   },
   "outputs": [
    {
     "data": {
      "text/html": [
       "<div>\n",
       "<style scoped>\n",
       "    .dataframe tbody tr th:only-of-type {\n",
       "        vertical-align: middle;\n",
       "    }\n",
       "\n",
       "    .dataframe tbody tr th {\n",
       "        vertical-align: top;\n",
       "    }\n",
       "\n",
       "    .dataframe thead th {\n",
       "        text-align: right;\n",
       "    }\n",
       "</style>\n",
       "<table border=\"1\" class=\"dataframe\">\n",
       "  <thead>\n",
       "    <tr style=\"text-align: right;\">\n",
       "      <th></th>\n",
       "      <th>Product Id</th>\n",
       "      <th>Company</th>\n",
       "      <th>Brand</th>\n",
       "      <th>Product Name</th>\n",
       "      <th>Variant</th>\n",
       "      <th>Product Discontinued Date</th>\n",
       "      <th>Product Submitted Date</th>\n",
       "      <th>Ingredient Name</th>\n",
       "      <th>Function</th>\n",
       "      <th>Unit of Measure</th>\n",
       "      <th>Concentration</th>\n",
       "      <th>Ingredient Submitted Date</th>\n",
       "      <th>Ingredient Removed Date</th>\n",
       "      <th>UPC</th>\n",
       "      <th>Body Area</th>\n",
       "      <th>Product Category</th>\n",
       "      <th>Product Form</th>\n",
       "      <th>Intended Market</th>\n",
       "    </tr>\n",
       "  </thead>\n",
       "  <tbody>\n",
       "    <tr>\n",
       "      <th>0</th>\n",
       "      <td>43485</td>\n",
       "      <td>Anastasia Beverly Hills, LLC</td>\n",
       "      <td>Anastasia Beverly HIlls</td>\n",
       "      <td>Perfect Brow Pencil (Granite shade_</td>\n",
       "      <td>NaN</td>\n",
       "      <td>NaN</td>\n",
       "      <td>7/15/2016</td>\n",
       "      <td>Titanium dioxide (CI 77891) 13463-67-7 / 1317-...</td>\n",
       "      <td>NaN</td>\n",
       "      <td>mg/g</td>\n",
       "      <td>46.81</td>\n",
       "      <td>7/15/2016</td>\n",
       "      <td>NaN</td>\n",
       "      <td>Not Available</td>\n",
       "      <td>Other (Specify):</td>\n",
       "      <td>Eyeliner/Eyebrow Pencils</td>\n",
       "      <td>Stick or Pencil</td>\n",
       "      <td>Not Available</td>\n",
       "    </tr>\n",
       "    <tr>\n",
       "      <th>1</th>\n",
       "      <td>18358</td>\n",
       "      <td>Nail Alliance - Entity</td>\n",
       "      <td>Entity Nudite</td>\n",
       "      <td>Cool Pink Nail Sculpting Powder</td>\n",
       "      <td>NaN</td>\n",
       "      <td>NaN</td>\n",
       "      <td>6/24/2019</td>\n",
       "      <td>Titanium dioxide (CI 77891) 13463-67-7 / 1317-...</td>\n",
       "      <td>NaN</td>\n",
       "      <td>mg/g</td>\n",
       "      <td>5</td>\n",
       "      <td>6/24/2019</td>\n",
       "      <td>NaN</td>\n",
       "      <td>Not Available</td>\n",
       "      <td>Nails</td>\n",
       "      <td>Artificial Nails and Related Products</td>\n",
       "      <td>Powder</td>\n",
       "      <td>Not Available</td>\n",
       "    </tr>\n",
       "    <tr>\n",
       "      <th>2</th>\n",
       "      <td>23202</td>\n",
       "      <td>GAP INC.</td>\n",
       "      <td>Gap Outlet</td>\n",
       "      <td>Light Pink, lip gloss (Lip trio)</td>\n",
       "      <td>Light Pink</td>\n",
       "      <td>1/1/2018</td>\n",
       "      <td>11/7/2014</td>\n",
       "      <td>Titanium dioxide (CI 77891) 13463-67-7 / 1317-...</td>\n",
       "      <td>NaN</td>\n",
       "      <td>NaN</td>\n",
       "      <td>NaN</td>\n",
       "      <td>11/7/2014</td>\n",
       "      <td>NaN</td>\n",
       "      <td>Not Available</td>\n",
       "      <td>Lips</td>\n",
       "      <td>Lip Gloss/Shine</td>\n",
       "      <td>Liquid</td>\n",
       "      <td>Not Available</td>\n",
       "    </tr>\n",
       "  </tbody>\n",
       "</table>\n",
       "</div>"
      ],
      "text/plain": [
       "   Product Id                       Company                     Brand  \\\n",
       "0       43485  Anastasia Beverly Hills, LLC   Anastasia Beverly HIlls   \n",
       "1       18358        Nail Alliance - Entity             Entity Nudite   \n",
       "2       23202                      GAP INC.                Gap Outlet   \n",
       "\n",
       "                          Product Name     Variant Product Discontinued Date  \\\n",
       "0  Perfect Brow Pencil (Granite shade_         NaN                       NaN   \n",
       "1      Cool Pink Nail Sculpting Powder         NaN                       NaN   \n",
       "2     Light Pink, lip gloss (Lip trio)  Light Pink                  1/1/2018   \n",
       "\n",
       "  Product Submitted Date                                    Ingredient Name  \\\n",
       "0              7/15/2016  Titanium dioxide (CI 77891) 13463-67-7 / 1317-...   \n",
       "1              6/24/2019  Titanium dioxide (CI 77891) 13463-67-7 / 1317-...   \n",
       "2              11/7/2014  Titanium dioxide (CI 77891) 13463-67-7 / 1317-...   \n",
       "\n",
       "  Function Unit of Measure Concentration Ingredient Submitted Date  \\\n",
       "0      NaN            mg/g         46.81                 7/15/2016   \n",
       "1      NaN            mg/g             5                 6/24/2019   \n",
       "2      NaN             NaN           NaN                 11/7/2014   \n",
       "\n",
       "  Ingredient Removed Date            UPC         Body Area  \\\n",
       "0                     NaN  Not Available  Other (Specify):   \n",
       "1                     NaN  Not Available             Nails   \n",
       "2                     NaN  Not Available              Lips   \n",
       "\n",
       "                        Product Category     Product Form Intended Market  \n",
       "0               Eyeliner/Eyebrow Pencils  Stick or Pencil   Not Available  \n",
       "1  Artificial Nails and Related Products           Powder   Not Available  \n",
       "2                        Lip Gloss/Shine           Liquid   Not Available  "
      ]
     },
     "execution_count": 3,
     "metadata": {},
     "output_type": "execute_result"
    }
   ],
   "source": [
    "# Read original CSV and make a copy for work\n",
    "origin = pd.read_csv('CDPH_Search_results.csv')\n",
    "df = origin.copy()\n",
    "df.head(3)"
   ]
  },
  {
   "cell_type": "code",
   "execution_count": 4,
   "metadata": {
    "colab": {
     "base_uri": "https://localhost:8080/"
    },
    "id": "VQB7zKKA4m0Z",
    "outputId": "e684bfd9-bd51-4b5a-e0dc-408492fe5e0e"
   },
   "outputs": [
    {
     "name": "stdout",
     "output_type": "stream",
     "text": [
      "<class 'pandas.core.frame.DataFrame'>\n",
      "RangeIndex: 390280 entries, 0 to 390279\n",
      "Data columns (total 18 columns):\n",
      " #   Column                     Non-Null Count   Dtype \n",
      "---  ------                     --------------   ----- \n",
      " 0   Product Id                 390280 non-null  int64 \n",
      " 1   Company                    390280 non-null  object\n",
      " 2   Brand                      390210 non-null  object\n",
      " 3   Product Name               390280 non-null  object\n",
      " 4   Variant                    156566 non-null  object\n",
      " 5   Product Discontinued Date  26354 non-null   object\n",
      " 6   Product Submitted Date     390280 non-null  object\n",
      " 7   Ingredient Name            390280 non-null  object\n",
      " 8   Function                   269986 non-null  object\n",
      " 9   Unit of Measure            177365 non-null  object\n",
      " 10  Concentration              178785 non-null  object\n",
      " 11  Ingredient Submitted Date  390280 non-null  object\n",
      " 12  Ingredient Removed Date    4897 non-null    object\n",
      " 13  UPC                        390167 non-null  object\n",
      " 14  Body Area                  383263 non-null  object\n",
      " 15  Product Category           390280 non-null  object\n",
      " 16  Product Form               378953 non-null  object\n",
      " 17  Intended Market            390261 non-null  object\n",
      "dtypes: int64(1), object(17)\n",
      "memory usage: 53.6+ MB\n"
     ]
    }
   ],
   "source": [
    "# Knowing the data set\n",
    "\n",
    "df.info()\n"
   ]
  },
  {
   "cell_type": "markdown",
   "metadata": {
    "id": "ucKta1jzou_j"
   },
   "source": [
    "## Cleanup of NaN values\n",
    "\n",
    "There are multiples NaN values but, for this report proposals, I only edit the NaN values in \"Brand\" and \"Concentration\" columns."
   ]
  },
  {
   "cell_type": "code",
   "execution_count": 5,
   "metadata": {
    "colab": {
     "base_uri": "https://localhost:8080/",
     "height": 451
    },
    "id": "wGTYGvwf9EmZ",
    "outputId": "5c98a976-97cb-4581-f3fc-85ec1311a376"
   },
   "outputs": [
    {
     "data": {
      "text/html": [
       "<div>\n",
       "<style scoped>\n",
       "    .dataframe tbody tr th:only-of-type {\n",
       "        vertical-align: middle;\n",
       "    }\n",
       "\n",
       "    .dataframe tbody tr th {\n",
       "        vertical-align: top;\n",
       "    }\n",
       "\n",
       "    .dataframe thead th {\n",
       "        text-align: right;\n",
       "    }\n",
       "</style>\n",
       "<table border=\"1\" class=\"dataframe\">\n",
       "  <thead>\n",
       "    <tr style=\"text-align: right;\">\n",
       "      <th></th>\n",
       "      <th>Product Id</th>\n",
       "      <th>Company</th>\n",
       "      <th>Brand</th>\n",
       "      <th>Product Name</th>\n",
       "      <th>Variant</th>\n",
       "      <th>Product Discontinued Date</th>\n",
       "      <th>Product Submitted Date</th>\n",
       "      <th>Ingredient Name</th>\n",
       "      <th>Function</th>\n",
       "      <th>Unit of Measure</th>\n",
       "      <th>Concentration</th>\n",
       "      <th>Ingredient Submitted Date</th>\n",
       "      <th>Ingredient Removed Date</th>\n",
       "      <th>UPC</th>\n",
       "      <th>Body Area</th>\n",
       "      <th>Product Category</th>\n",
       "      <th>Product Form</th>\n",
       "      <th>Intended Market</th>\n",
       "    </tr>\n",
       "  </thead>\n",
       "  <tbody>\n",
       "    <tr>\n",
       "      <th>368093</th>\n",
       "      <td>119355</td>\n",
       "      <td>Conopco, Inc.</td>\n",
       "      <td>TRESemme</td>\n",
       "      <td>Tresemme Extra Hold Hair Gel</td>\n",
       "      <td>NaN</td>\n",
       "      <td>NaN</td>\n",
       "      <td>12/9/2022</td>\n",
       "      <td>GERANIOL</td>\n",
       "      <td>Fragrance</td>\n",
       "      <td>NaN</td>\n",
       "      <td>0</td>\n",
       "      <td>12/9/2022</td>\n",
       "      <td>NaN</td>\n",
       "      <td>022400624273</td>\n",
       "      <td>Hair or Scalp</td>\n",
       "      <td>Hair Styling Products</td>\n",
       "      <td>Cream/Gel/Foam</td>\n",
       "      <td>General population</td>\n",
       "    </tr>\n",
       "    <tr>\n",
       "      <th>54304</th>\n",
       "      <td>27900</td>\n",
       "      <td>Arcadia Beauty Labs LLC</td>\n",
       "      <td>Bitzy</td>\n",
       "      <td>Bitzy Dusk &amp; Starlight Cosmetic Palette</td>\n",
       "      <td>NaN</td>\n",
       "      <td>NaN</td>\n",
       "      <td>11/6/2017</td>\n",
       "      <td>Titanium dioxide (CI 77891) 13463-67-7 / 1317-...</td>\n",
       "      <td>NaN</td>\n",
       "      <td>NaN</td>\n",
       "      <td>0</td>\n",
       "      <td>11/6/2017</td>\n",
       "      <td>NaN</td>\n",
       "      <td>Not Available</td>\n",
       "      <td>Face</td>\n",
       "      <td>Face Powders</td>\n",
       "      <td>Powder</td>\n",
       "      <td>Not Available</td>\n",
       "    </tr>\n",
       "    <tr>\n",
       "      <th>30282</th>\n",
       "      <td>116607</td>\n",
       "      <td>Bath &amp; Body Works</td>\n",
       "      <td>Bath &amp; Body Works</td>\n",
       "      <td>Bath &amp; Body Works Men's Collection 24 HR Moist...</td>\n",
       "      <td>NaN</td>\n",
       "      <td>NaN</td>\n",
       "      <td>9/28/2022</td>\n",
       "      <td>CITRONELLOL</td>\n",
       "      <td>Fragrance</td>\n",
       "      <td>NaN</td>\n",
       "      <td>0</td>\n",
       "      <td>9/28/2022</td>\n",
       "      <td>NaN</td>\n",
       "      <td>667557239224</td>\n",
       "      <td>Body (general)</td>\n",
       "      <td>Skin Moisturizers (making a cosmetic claim)</td>\n",
       "      <td>Cream/Gel/Foam</td>\n",
       "      <td>General population</td>\n",
       "    </tr>\n",
       "  </tbody>\n",
       "</table>\n",
       "</div>"
      ],
      "text/plain": [
       "        Product Id                  Company              Brand  \\\n",
       "368093      119355            Conopco, Inc.           TRESemme   \n",
       "54304        27900  Arcadia Beauty Labs LLC              Bitzy   \n",
       "30282       116607        Bath & Body Works  Bath & Body Works   \n",
       "\n",
       "                                             Product Name Variant  \\\n",
       "368093                       Tresemme Extra Hold Hair Gel     NaN   \n",
       "54304             Bitzy Dusk & Starlight Cosmetic Palette     NaN   \n",
       "30282   Bath & Body Works Men's Collection 24 HR Moist...     NaN   \n",
       "\n",
       "       Product Discontinued Date Product Submitted Date  \\\n",
       "368093                       NaN              12/9/2022   \n",
       "54304                        NaN              11/6/2017   \n",
       "30282                        NaN              9/28/2022   \n",
       "\n",
       "                                          Ingredient Name   Function  \\\n",
       "368093                                          GERANIOL   Fragrance   \n",
       "54304   Titanium dioxide (CI 77891) 13463-67-7 / 1317-...        NaN   \n",
       "30282                                        CITRONELLOL   Fragrance   \n",
       "\n",
       "       Unit of Measure Concentration Ingredient Submitted Date  \\\n",
       "368093             NaN             0                 12/9/2022   \n",
       "54304              NaN             0                 11/6/2017   \n",
       "30282              NaN             0                 9/28/2022   \n",
       "\n",
       "       Ingredient Removed Date            UPC       Body Area  \\\n",
       "368093                     NaN   022400624273   Hair or Scalp   \n",
       "54304                      NaN  Not Available            Face   \n",
       "30282                      NaN   667557239224  Body (general)   \n",
       "\n",
       "                                   Product Category    Product Form  \\\n",
       "368093                        Hair Styling Products  Cream/Gel/Foam   \n",
       "54304                                  Face Powders          Powder   \n",
       "30282   Skin Moisturizers (making a cosmetic claim)  Cream/Gel/Foam   \n",
       "\n",
       "           Intended Market  \n",
       "368093  General population  \n",
       "54304        Not Available  \n",
       "30282   General population  "
      ]
     },
     "execution_count": 5,
     "metadata": {},
     "output_type": "execute_result"
    }
   ],
   "source": [
    "# 'Brand' NaN values\n",
    "df['Brand'].isna().sum() # Total = 70\n",
    "# Fill NaN Brand values with text 'Generic'\n",
    "df['Brand'].fillna('Generic', inplace=True)\n",
    "\n",
    "# 'Concentration' NaN values\n",
    "df['Concentration'].isna().sum() # Total = 203402\n",
    "# Fill NaN with 0 so as not to lose the entire entry.\n",
    "df['Concentration'].fillna(0, inplace=True)\n",
    "\n",
    "# Check\n",
    "df.loc[(df['Brand'] == 'Generic') | df['Concentration'] == 0, :].sample(3)\n"
   ]
  },
  {
   "cell_type": "markdown",
   "metadata": {
    "id": "jn6iIE0W0FKt"
   },
   "source": [
    "# Clean wrong data\n",
    "\n",
    "Some companies did not report ingredient concentration because it considers 'Trade Secret'. I need this value in number, that's why this value will edit with '-1'"
   ]
  },
  {
   "cell_type": "code",
   "execution_count": 21,
   "metadata": {
    "colab": {
     "base_uri": "https://localhost:8080/"
    },
    "id": "6j1NciEv0Jf7",
    "outputId": "279dbc75-27f5-424e-d05e-f1627ddfe387"
   },
   "outputs": [
    {
     "name": "stdout",
     "output_type": "stream",
     "text": [
      "<class 'pandas.core.frame.DataFrame'>\n",
      "Int64Index: 387595 entries, 0 to 390279\n",
      "Data columns (total 20 columns):\n",
      " #   Column                     Non-Null Count   Dtype  \n",
      "---  ------                     --------------   -----  \n",
      " 0   Product Id                 387595 non-null  int64  \n",
      " 1   Product Name               387595 non-null  object \n",
      " 2   Variant                    154091 non-null  object \n",
      " 3   Discontinued               387595 non-null  bool   \n",
      " 4   Brand                      387595 non-null  object \n",
      " 5   Company                    387595 non-null  object \n",
      " 6   Ingredient Name            387595 non-null  object \n",
      " 7   Function                   269986 non-null  object \n",
      " 8   Unit of Measure            176478 non-null  object \n",
      " 9   Concentration              387595 non-null  float64\n",
      " 10  Ingredient Removed         387595 non-null  bool   \n",
      " 11  Ingredient Submitted Date  387595 non-null  object \n",
      " 12  Ingredient Removed Date    4892 non-null    object \n",
      " 13  UPC                        387482 non-null  object \n",
      " 14  Product Submitted Date     387595 non-null  object \n",
      " 15  Product Discontinued Date  25767 non-null   object \n",
      " 16  Product Category           387595 non-null  object \n",
      " 17  Product Form               377303 non-null  object \n",
      " 18  Body Area                  380594 non-null  object \n",
      " 19  Intended Market            387576 non-null  object \n",
      "dtypes: bool(2), float64(1), int64(1), object(16)\n",
      "memory usage: 56.9+ MB\n"
     ]
    }
   ],
   "source": [
    "# Cuantos registros 'Trade Secret' hay en el dataset?\n",
    "trade_secret = df['Concentration'] == 'Trade Secret' # 60288\n",
    "\n",
    "# Reemplazamos los registros 'Trade Secret' por -1\n",
    "df['Concentration'].replace('Trade Secret', -1, inplace=True)\n",
    "\n",
    "# Finalmente convertimos la columna Concentration a tipo de dato numerico (float)\n",
    "df['Concentration'] = pd.to_numeric(df['Concentration'])\n",
    "\n",
    "df.info()"
   ]
  },
  {
   "cell_type": "markdown",
   "metadata": {
    "id": "iXpXFWZ0HpAo"
   },
   "source": [
    "# Duplicate values"
   ]
  },
  {
   "cell_type": "code",
   "execution_count": 23,
   "metadata": {
    "colab": {
     "base_uri": "https://localhost:8080/"
    },
    "id": "NTGhGWQiHy6X",
    "outputId": "482965fe-59d8-4539-e2bf-2df7f01a90af"
   },
   "outputs": [
    {
     "name": "stdout",
     "output_type": "stream",
     "text": [
      "<class 'pandas.core.frame.DataFrame'>\n",
      "Int64Index: 387595 entries, 0 to 390279\n",
      "Data columns (total 20 columns):\n",
      " #   Column                     Non-Null Count   Dtype  \n",
      "---  ------                     --------------   -----  \n",
      " 0   Product Id                 387595 non-null  int64  \n",
      " 1   Product Name               387595 non-null  object \n",
      " 2   Variant                    154091 non-null  object \n",
      " 3   Discontinued               387595 non-null  bool   \n",
      " 4   Brand                      387595 non-null  object \n",
      " 5   Company                    387595 non-null  object \n",
      " 6   Ingredient Name            387595 non-null  object \n",
      " 7   Function                   269986 non-null  object \n",
      " 8   Unit of Measure            176478 non-null  object \n",
      " 9   Concentration              387595 non-null  float64\n",
      " 10  Ingredient Removed         387595 non-null  bool   \n",
      " 11  Ingredient Submitted Date  387595 non-null  object \n",
      " 12  Ingredient Removed Date    4892 non-null    object \n",
      " 13  UPC                        387482 non-null  object \n",
      " 14  Product Submitted Date     387595 non-null  object \n",
      " 15  Product Discontinued Date  25767 non-null   object \n",
      " 16  Product Category           387595 non-null  object \n",
      " 17  Product Form               377303 non-null  object \n",
      " 18  Body Area                  380594 non-null  object \n",
      " 19  Intended Market            387576 non-null  object \n",
      "dtypes: bool(2), float64(1), int64(1), object(16)\n",
      "memory usage: 56.9+ MB\n"
     ]
    }
   ],
   "source": [
    "# Check duplicates\n",
    "df[df.duplicated(keep='first')].sort_values(by=['Product Name', 'Ingredient Name'])\n",
    "\n",
    "# Drop duplicates\n",
    "df = df.drop_duplicates()\n",
    "\n",
    "df.info()"
   ]
  },
  {
   "cell_type": "markdown",
   "metadata": {
    "id": "qv77yp8JZ2lG"
   },
   "source": [
    "# Orden & Organization\n",
    "\n",
    "To simplify the information regarding the ingredients that have already been removed from the formulas and the products that have been discontinued from the sale, I will create two new boolean columns. These columns will return true or false depending on whether the ingredient has been removed or the product has been removed from sale. This will allow for easy filtering and analysis of the data."
   ]
  },
  {
   "cell_type": "code",
   "execution_count": 24,
   "metadata": {
    "colab": {
     "base_uri": "https://localhost:8080/",
     "height": 384
    },
    "id": "U_kcZqytZ86V",
    "outputId": "2b31fd12-90c0-4ccd-baec-d36e8fd671fc"
   },
   "outputs": [
    {
     "data": {
      "text/html": [
       "<div>\n",
       "<style scoped>\n",
       "    .dataframe tbody tr th:only-of-type {\n",
       "        vertical-align: middle;\n",
       "    }\n",
       "\n",
       "    .dataframe tbody tr th {\n",
       "        vertical-align: top;\n",
       "    }\n",
       "\n",
       "    .dataframe thead th {\n",
       "        text-align: right;\n",
       "    }\n",
       "</style>\n",
       "<table border=\"1\" class=\"dataframe\">\n",
       "  <thead>\n",
       "    <tr style=\"text-align: right;\">\n",
       "      <th></th>\n",
       "      <th>Product Id</th>\n",
       "      <th>Product Name</th>\n",
       "      <th>Variant</th>\n",
       "      <th>Discontinued</th>\n",
       "      <th>Brand</th>\n",
       "      <th>Company</th>\n",
       "      <th>Ingredient Name</th>\n",
       "      <th>Function</th>\n",
       "      <th>Unit of Measure</th>\n",
       "      <th>Concentration</th>\n",
       "      <th>Ingredient Removed</th>\n",
       "      <th>Ingredient Submitted Date</th>\n",
       "      <th>Ingredient Removed Date</th>\n",
       "      <th>UPC</th>\n",
       "      <th>Product Submitted Date</th>\n",
       "      <th>Product Discontinued Date</th>\n",
       "      <th>Product Category</th>\n",
       "      <th>Product Form</th>\n",
       "      <th>Body Area</th>\n",
       "      <th>Intended Market</th>\n",
       "    </tr>\n",
       "  </thead>\n",
       "  <tbody>\n",
       "    <tr>\n",
       "      <th>32277</th>\n",
       "      <td>115507</td>\n",
       "      <td>Bath &amp; Body Works Men's Collection Cologne Bou...</td>\n",
       "      <td>NaN</td>\n",
       "      <td>False</td>\n",
       "      <td>Bath &amp; Body Works</td>\n",
       "      <td>Bath &amp; Body Works</td>\n",
       "      <td>Hydroxycitronellal 107-75-5</td>\n",
       "      <td>Fragrance</td>\n",
       "      <td>NaN</td>\n",
       "      <td>0.000000</td>\n",
       "      <td>False</td>\n",
       "      <td>9/1/2022</td>\n",
       "      <td>NaN</td>\n",
       "      <td>667557237503</td>\n",
       "      <td>9/1/2022</td>\n",
       "      <td>NaN</td>\n",
       "      <td>Cologne</td>\n",
       "      <td>Spray - Non-Aerosol</td>\n",
       "      <td>Neck/chest/decolletage area</td>\n",
       "      <td>General population</td>\n",
       "    </tr>\n",
       "    <tr>\n",
       "      <th>353329</th>\n",
       "      <td>118053</td>\n",
       "      <td>MINT MATTIFYING FACE MIST</td>\n",
       "      <td>NaN</td>\n",
       "      <td>False</td>\n",
       "      <td>The Body Shop International Limited</td>\n",
       "      <td>Buth-na-Bodhaige, Inc</td>\n",
       "      <td>Limonene 5989-27-5</td>\n",
       "      <td>Fragrance</td>\n",
       "      <td>Percent</td>\n",
       "      <td>0.030492</td>\n",
       "      <td>False</td>\n",
       "      <td>11/1/2022</td>\n",
       "      <td>NaN</td>\n",
       "      <td>5028197889494</td>\n",
       "      <td>11/1/2022</td>\n",
       "      <td>NaN</td>\n",
       "      <td>Skin Fresheners</td>\n",
       "      <td>Liquid</td>\n",
       "      <td>Face</td>\n",
       "      <td>General population</td>\n",
       "    </tr>\n",
       "  </tbody>\n",
       "</table>\n",
       "</div>"
      ],
      "text/plain": [
       "        Product Id                                       Product Name Variant  \\\n",
       "32277       115507  Bath & Body Works Men's Collection Cologne Bou...     NaN   \n",
       "353329      118053                          MINT MATTIFYING FACE MIST     NaN   \n",
       "\n",
       "        Discontinued                                Brand  \\\n",
       "32277          False                    Bath & Body Works   \n",
       "353329         False  The Body Shop International Limited   \n",
       "\n",
       "                      Company              Ingredient Name   Function  \\\n",
       "32277       Bath & Body Works  Hydroxycitronellal 107-75-5  Fragrance   \n",
       "353329  Buth-na-Bodhaige, Inc           Limonene 5989-27-5  Fragrance   \n",
       "\n",
       "       Unit of Measure  Concentration  Ingredient Removed  \\\n",
       "32277              NaN       0.000000               False   \n",
       "353329         Percent       0.030492               False   \n",
       "\n",
       "       Ingredient Submitted Date Ingredient Removed Date            UPC  \\\n",
       "32277                   9/1/2022                     NaN   667557237503   \n",
       "353329                 11/1/2022                     NaN  5028197889494   \n",
       "\n",
       "       Product Submitted Date Product Discontinued Date Product Category  \\\n",
       "32277                9/1/2022                       NaN          Cologne   \n",
       "353329              11/1/2022                       NaN  Skin Fresheners   \n",
       "\n",
       "               Product Form                    Body Area     Intended Market  \n",
       "32277   Spray - Non-Aerosol  Neck/chest/decolletage area  General population  \n",
       "353329               Liquid                         Face  General population  "
      ]
     },
     "execution_count": 24,
     "metadata": {},
     "output_type": "execute_result"
    }
   ],
   "source": [
    "# Was the ingredient removed? True/False\n",
    "df['Ingredient Removed'] = df['Ingredient Removed Date'].notnull()\n",
    "\n",
    "# Was the product discontinued from the sale? True/False\n",
    "df['Discontinued'] = df['Product Discontinued Date'].notnull()\n",
    "\n",
    "# Reordering columns for best analysis\n",
    "df = df.reindex(columns=[\n",
    "    'Product Id', 'Product Name', 'Variant', 'Discontinued', 'Brand', 'Company', \n",
    "    'Ingredient Name', 'Function', 'Unit of Measure', 'Concentration',\n",
    "    'Ingredient Removed', 'Ingredient Submitted Date', 'Ingredient Removed Date', 'UPC',\n",
    "    'Product Submitted Date', 'Product Discontinued Date', \n",
    "    'Product Category', 'Product Form', 'Body Area', 'Intended Market'\n",
    "])\n",
    "\n",
    "# Check\n",
    "df.sample(2)"
   ]
  },
  {
   "cell_type": "markdown",
   "metadata": {
    "id": "bzLoFAHatPqA"
   },
   "source": [
    "## Format dates in a new dataset"
   ]
  },
  {
   "cell_type": "code",
   "execution_count": 25,
   "metadata": {
    "colab": {
     "base_uri": "https://localhost:8080/",
     "height": 398
    },
    "id": "WFb_pBBQ2Af7",
    "outputId": "8fb9e90a-9d57-4a01-d9af-b7d127e81988"
   },
   "outputs": [
    {
     "data": {
      "text/html": [
       "<div>\n",
       "<style scoped>\n",
       "    .dataframe tbody tr th:only-of-type {\n",
       "        vertical-align: middle;\n",
       "    }\n",
       "\n",
       "    .dataframe tbody tr th {\n",
       "        vertical-align: top;\n",
       "    }\n",
       "\n",
       "    .dataframe thead th {\n",
       "        text-align: right;\n",
       "    }\n",
       "</style>\n",
       "<table border=\"1\" class=\"dataframe\">\n",
       "  <thead>\n",
       "    <tr style=\"text-align: right;\">\n",
       "      <th></th>\n",
       "      <th>Product Id</th>\n",
       "      <th>Product Name</th>\n",
       "      <th>Variant</th>\n",
       "      <th>Discontinued</th>\n",
       "      <th>Brand</th>\n",
       "      <th>Company</th>\n",
       "      <th>Ingredient Name</th>\n",
       "      <th>Function</th>\n",
       "      <th>Unit of Measure</th>\n",
       "      <th>Concentration</th>\n",
       "      <th>Ingredient Removed</th>\n",
       "      <th>Ingredient Submitted Date</th>\n",
       "      <th>Ingredient Removed Date</th>\n",
       "      <th>UPC</th>\n",
       "      <th>Product Submitted Date</th>\n",
       "      <th>Product Discontinued Date</th>\n",
       "      <th>Product Category</th>\n",
       "      <th>Product Form</th>\n",
       "      <th>Body Area</th>\n",
       "      <th>Intended Market</th>\n",
       "    </tr>\n",
       "  </thead>\n",
       "  <tbody>\n",
       "    <tr>\n",
       "      <th>300067</th>\n",
       "      <td>91252</td>\n",
       "      <td>Que Bella Purifying Tea Tree Mud Mask</td>\n",
       "      <td>NaN</td>\n",
       "      <td>False</td>\n",
       "      <td>Que Bella</td>\n",
       "      <td>Design Plus Health &amp; Beauty Ltd</td>\n",
       "      <td>LINALOOL</td>\n",
       "      <td>Fragrance</td>\n",
       "      <td>Percent</td>\n",
       "      <td>0.0002</td>\n",
       "      <td>True</td>\n",
       "      <td>2021-12-17</td>\n",
       "      <td>2023-03-09</td>\n",
       "      <td>5060242152085</td>\n",
       "      <td>2021-12-17</td>\n",
       "      <td>NaT</td>\n",
       "      <td>Facial Masks</td>\n",
       "      <td>Cream/Gel/Foam</td>\n",
       "      <td>Face</td>\n",
       "      <td>General population</td>\n",
       "    </tr>\n",
       "    <tr>\n",
       "      <th>152442</th>\n",
       "      <td>100204</td>\n",
       "      <td>Hair Biology Thickening Serum</td>\n",
       "      <td>NaN</td>\n",
       "      <td>False</td>\n",
       "      <td>Hair Biology</td>\n",
       "      <td>The Procter &amp; Gamble Company (Cincinnati)</td>\n",
       "      <td>Glycol ethers</td>\n",
       "      <td>Fragrance</td>\n",
       "      <td>NaN</td>\n",
       "      <td>0.0000</td>\n",
       "      <td>True</td>\n",
       "      <td>2022-03-08</td>\n",
       "      <td>2023-03-01</td>\n",
       "      <td>037000642251</td>\n",
       "      <td>2022-03-08</td>\n",
       "      <td>NaT</td>\n",
       "      <td>Hair Styling Products</td>\n",
       "      <td>Cream/Gel/Foam</td>\n",
       "      <td>Hair or Scalp</td>\n",
       "      <td>General population</td>\n",
       "    </tr>\n",
       "    <tr>\n",
       "      <th>152468</th>\n",
       "      <td>100204</td>\n",
       "      <td>Hair Biology Thickening Serum</td>\n",
       "      <td>NaN</td>\n",
       "      <td>False</td>\n",
       "      <td>Hair Biology</td>\n",
       "      <td>The Procter &amp; Gamble Company (Cincinnati)</td>\n",
       "      <td>Glycol ethers</td>\n",
       "      <td>Fragrance</td>\n",
       "      <td>NaN</td>\n",
       "      <td>0.0000</td>\n",
       "      <td>True</td>\n",
       "      <td>2022-03-08</td>\n",
       "      <td>2023-03-01</td>\n",
       "      <td>037000642251</td>\n",
       "      <td>2022-03-08</td>\n",
       "      <td>NaT</td>\n",
       "      <td>Other Hair Care Product</td>\n",
       "      <td>Spray - Non-Aerosol</td>\n",
       "      <td>Hair or Scalp</td>\n",
       "      <td>General population</td>\n",
       "    </tr>\n",
       "  </tbody>\n",
       "</table>\n",
       "</div>"
      ],
      "text/plain": [
       "        Product Id                           Product Name Variant  \\\n",
       "300067       91252  Que Bella Purifying Tea Tree Mud Mask     NaN   \n",
       "152442      100204          Hair Biology Thickening Serum     NaN   \n",
       "152468      100204          Hair Biology Thickening Serum     NaN   \n",
       "\n",
       "        Discontinued         Brand                                    Company  \\\n",
       "300067         False     Que Bella            Design Plus Health & Beauty Ltd   \n",
       "152442         False  Hair Biology  The Procter & Gamble Company (Cincinnati)   \n",
       "152468         False  Hair Biology  The Procter & Gamble Company (Cincinnati)   \n",
       "\n",
       "       Ingredient Name   Function Unit of Measure  Concentration  \\\n",
       "300067       LINALOOL   Fragrance         Percent         0.0002   \n",
       "152442  Glycol ethers   Fragrance             NaN         0.0000   \n",
       "152468  Glycol ethers   Fragrance             NaN         0.0000   \n",
       "\n",
       "        Ingredient Removed Ingredient Submitted Date Ingredient Removed Date  \\\n",
       "300067                True                2021-12-17              2023-03-09   \n",
       "152442                True                2022-03-08              2023-03-01   \n",
       "152468                True                2022-03-08              2023-03-01   \n",
       "\n",
       "                  UPC Product Submitted Date Product Discontinued Date  \\\n",
       "300067  5060242152085             2021-12-17                       NaT   \n",
       "152442   037000642251             2022-03-08                       NaT   \n",
       "152468   037000642251             2022-03-08                       NaT   \n",
       "\n",
       "               Product Category         Product Form      Body Area  \\\n",
       "300067             Facial Masks       Cream/Gel/Foam           Face   \n",
       "152442    Hair Styling Products       Cream/Gel/Foam  Hair or Scalp   \n",
       "152468  Other Hair Care Product  Spray - Non-Aerosol  Hair or Scalp   \n",
       "\n",
       "           Intended Market  \n",
       "300067  General population  \n",
       "152442  General population  \n",
       "152468  General population  "
      ]
     },
     "execution_count": 25,
     "metadata": {},
     "output_type": "execute_result"
    }
   ],
   "source": [
    "# df copy\n",
    "df_final = df.copy()\n",
    "\n",
    "# Apply datetime to the 4 columns with dates\n",
    "df_final[['Product Discontinued Date', 'Product Submitted Date', 'Ingredient Submitted Date', 'Ingredient Removed Date']\n",
    "   ] = df_final[['Product Discontinued Date', 'Product Submitted Date', 'Ingredient Submitted Date', 'Ingredient Removed Date']\n",
    "          ].apply(pd.to_datetime, format=\"%m/%d/%Y\")\n",
    "\n",
    "'''\n",
    "The format change caused errors in a total of 117 rows, specifically in the 'Ingredient Removed Date' column: \n",
    "in 116 rows, the year 2013 was replaced by 2103, and in one row, 2014 was replaced by 2104. \n",
    "To correct this, I use lambda functions and the where method from NumPy. \n",
    "'''\n",
    "\n",
    "wrong_13 = df_final['Ingredient Removed Date'].apply(lambda x: x.replace(year=2013))\n",
    "wrong_14 = df_final['Ingredient Removed Date'].apply(lambda x: x.replace(year=2014))\n",
    "df_final['Ingredient Removed Date'] = np.where(df_final['Ingredient Removed Date'].dt.year == 2103, wrong_13, df_final['Ingredient Removed Date'])\n",
    "df_final['Ingredient Removed Date'] = np.where(df_final['Ingredient Removed Date'].dt.year == 2104, wrong_14, df_final['Ingredient Removed Date'])\n",
    "\n",
    "# Order & check values\n",
    "df_final.sort_values(by='Ingredient Removed Date', ascending=False).head(3)\n"
   ]
  },
  {
   "cell_type": "markdown",
   "metadata": {
    "id": "luaKkoSceO5v"
   },
   "source": [
    "# And now some questions:\n"
   ]
  },
  {
   "cell_type": "markdown",
   "metadata": {
    "id": "f2rKXpqeaof6"
   },
   "source": [
    "### According to the submitted date: which companies were the first to report ingredients potentially harmful in their products?"
   ]
  },
  {
   "cell_type": "code",
   "execution_count": 26,
   "metadata": {
    "colab": {
     "base_uri": "https://localhost:8080/",
     "height": 677
    },
    "id": "nX_mILIYb0WX",
    "outputId": "87daed4d-a658-4c4b-a3c2-52b8df544488"
   },
   "outputs": [
    {
     "data": {
      "text/html": [
       "<div>\n",
       "<style scoped>\n",
       "    .dataframe tbody tr th:only-of-type {\n",
       "        vertical-align: middle;\n",
       "    }\n",
       "\n",
       "    .dataframe tbody tr th {\n",
       "        vertical-align: top;\n",
       "    }\n",
       "\n",
       "    .dataframe thead th {\n",
       "        text-align: right;\n",
       "    }\n",
       "</style>\n",
       "<table border=\"1\" class=\"dataframe\">\n",
       "  <thead>\n",
       "    <tr style=\"text-align: right;\">\n",
       "      <th></th>\n",
       "      <th>Company</th>\n",
       "      <th>First Submit</th>\n",
       "      <th>Product Name</th>\n",
       "    </tr>\n",
       "  </thead>\n",
       "  <tbody>\n",
       "    <tr>\n",
       "      <th>0</th>\n",
       "      <td>New Avon LLC</td>\n",
       "      <td>2009-06-17</td>\n",
       "      <td>ULTRA COLOR RICH EXTRA PLUMP LIPSTICK-ALL SHADES</td>\n",
       "    </tr>\n",
       "    <tr>\n",
       "      <th>1</th>\n",
       "      <td>J. Strickland &amp; Co.</td>\n",
       "      <td>2009-07-01</td>\n",
       "      <td>Glover's Medicated Shampoo</td>\n",
       "    </tr>\n",
       "    <tr>\n",
       "      <th>2</th>\n",
       "      <td>OPI PRODUCTS INC.</td>\n",
       "      <td>2009-07-13</td>\n",
       "      <td>ABSOLUTE Precision Color Powder System Translu...</td>\n",
       "    </tr>\n",
       "    <tr>\n",
       "      <th>3</th>\n",
       "      <td>GOJO Industries, Inc.</td>\n",
       "      <td>2009-07-23</td>\n",
       "      <td>White Premium Lotion Soap</td>\n",
       "    </tr>\n",
       "    <tr>\n",
       "      <th>4</th>\n",
       "      <td>CHANEL, INC</td>\n",
       "      <td>2009-08-10</td>\n",
       "      <td>Professional Eyeshadow Base</td>\n",
       "    </tr>\n",
       "    <tr>\n",
       "      <th>5</th>\n",
       "      <td>Aloecare International, LLC</td>\n",
       "      <td>2009-08-11</td>\n",
       "      <td>Aloe Up Lil' Kids SPF 45 Aloe Based Sunscreen ...</td>\n",
       "    </tr>\n",
       "    <tr>\n",
       "      <th>6</th>\n",
       "      <td>Entity Beauty, Inc.</td>\n",
       "      <td>2009-08-16</td>\n",
       "      <td>Entity One Nudite Pink UV Gel</td>\n",
       "    </tr>\n",
       "    <tr>\n",
       "      <th>7</th>\n",
       "      <td>Revlon Consumer Product Corporation</td>\n",
       "      <td>2009-08-18</td>\n",
       "      <td>Pure Blends Natural Lipgloss-Natural</td>\n",
       "    </tr>\n",
       "    <tr>\n",
       "      <th>8</th>\n",
       "      <td>Dermalogica</td>\n",
       "      <td>2009-08-21</td>\n",
       "      <td>Skin Prep Scrub</td>\n",
       "    </tr>\n",
       "    <tr>\n",
       "      <th>9</th>\n",
       "      <td>CLARINS S.A.</td>\n",
       "      <td>2009-08-24</td>\n",
       "      <td>ECLAT MINUTE EMBELLISSEUR DE TEINT</td>\n",
       "    </tr>\n",
       "    <tr>\n",
       "      <th>10</th>\n",
       "      <td>McConnell Labs, Inc.</td>\n",
       "      <td>2009-08-25</td>\n",
       "      <td>Gel Polishes</td>\n",
       "    </tr>\n",
       "    <tr>\n",
       "      <th>11</th>\n",
       "      <td>Philosophy</td>\n",
       "      <td>2009-08-26</td>\n",
       "      <td>Divine Illumination</td>\n",
       "    </tr>\n",
       "    <tr>\n",
       "      <th>12</th>\n",
       "      <td>Coty</td>\n",
       "      <td>2009-08-26</td>\n",
       "      <td>Help Me Retinol Cream</td>\n",
       "    </tr>\n",
       "    <tr>\n",
       "      <th>13</th>\n",
       "      <td>CP Skin Health Group Inc.</td>\n",
       "      <td>2009-08-28</td>\n",
       "      <td>A&amp;C synergy serum</td>\n",
       "    </tr>\n",
       "    <tr>\n",
       "      <th>14</th>\n",
       "      <td>L'Oreal USA</td>\n",
       "      <td>2009-08-31</td>\n",
       "      <td>YSL Perfumed Sparkling Body Powder</td>\n",
       "    </tr>\n",
       "    <tr>\n",
       "      <th>15</th>\n",
       "      <td>Elizabeth Arden, Inc.</td>\n",
       "      <td>2009-09-01</td>\n",
       "      <td>Elizabeth Arden Green Tea Relaxing Bubble Bath</td>\n",
       "    </tr>\n",
       "    <tr>\n",
       "      <th>16</th>\n",
       "      <td>Sunrider Manufacturing, L.P.</td>\n",
       "      <td>2009-09-02</td>\n",
       "      <td>Body Lotion SPF-25</td>\n",
       "    </tr>\n",
       "    <tr>\n",
       "      <th>17</th>\n",
       "      <td>Romane Fragrances</td>\n",
       "      <td>2009-09-02</td>\n",
       "      <td>Romane 2 Cruel Sugar Body Polish</td>\n",
       "    </tr>\n",
       "    <tr>\n",
       "      <th>18</th>\n",
       "      <td>LI Pigments</td>\n",
       "      <td>2009-09-07</td>\n",
       "      <td>LiPigments Aqua Pigments</td>\n",
       "    </tr>\n",
       "    <tr>\n",
       "      <th>19</th>\n",
       "      <td>Tahitian Noni International, Inc.</td>\n",
       "      <td>2009-09-08</td>\n",
       "      <td>Body Balance Cream</td>\n",
       "    </tr>\n",
       "  </tbody>\n",
       "</table>\n",
       "</div>"
      ],
      "text/plain": [
       "                                Company First Submit  \\\n",
       "0                          New Avon LLC   2009-06-17   \n",
       "1                   J. Strickland & Co.   2009-07-01   \n",
       "2                     OPI PRODUCTS INC.   2009-07-13   \n",
       "3                 GOJO Industries, Inc.   2009-07-23   \n",
       "4                           CHANEL, INC   2009-08-10   \n",
       "5           Aloecare International, LLC   2009-08-11   \n",
       "6                   Entity Beauty, Inc.   2009-08-16   \n",
       "7   Revlon Consumer Product Corporation   2009-08-18   \n",
       "8                          Dermalogica    2009-08-21   \n",
       "9                          CLARINS S.A.   2009-08-24   \n",
       "10                 McConnell Labs, Inc.   2009-08-25   \n",
       "11                           Philosophy   2009-08-26   \n",
       "12                                 Coty   2009-08-26   \n",
       "13            CP Skin Health Group Inc.   2009-08-28   \n",
       "14                          L'Oreal USA   2009-08-31   \n",
       "15                Elizabeth Arden, Inc.   2009-09-01   \n",
       "16         Sunrider Manufacturing, L.P.   2009-09-02   \n",
       "17                    Romane Fragrances   2009-09-02   \n",
       "18                          LI Pigments   2009-09-07   \n",
       "19    Tahitian Noni International, Inc.   2009-09-08   \n",
       "\n",
       "                                         Product Name  \n",
       "0    ULTRA COLOR RICH EXTRA PLUMP LIPSTICK-ALL SHADES  \n",
       "1                          Glover's Medicated Shampoo  \n",
       "2   ABSOLUTE Precision Color Powder System Translu...  \n",
       "3                           White Premium Lotion Soap  \n",
       "4                         Professional Eyeshadow Base  \n",
       "5   Aloe Up Lil' Kids SPF 45 Aloe Based Sunscreen ...  \n",
       "6                       Entity One Nudite Pink UV Gel  \n",
       "7                Pure Blends Natural Lipgloss-Natural  \n",
       "8                                     Skin Prep Scrub  \n",
       "9                  ECLAT MINUTE EMBELLISSEUR DE TEINT  \n",
       "10                                       Gel Polishes  \n",
       "11                                Divine Illumination  \n",
       "12                              Help Me Retinol Cream  \n",
       "13                                  A&C synergy serum  \n",
       "14                 YSL Perfumed Sparkling Body Powder  \n",
       "15     Elizabeth Arden Green Tea Relaxing Bubble Bath  \n",
       "16                                 Body Lotion SPF-25  \n",
       "17                   Romane 2 Cruel Sugar Body Polish  \n",
       "18                           LiPigments Aqua Pigments  \n",
       "19                                 Body Balance Cream  "
      ]
     },
     "execution_count": 26,
     "metadata": {},
     "output_type": "execute_result"
    }
   ],
   "source": [
    "first_reported = df_final.sort_values(by='Product Submitted Date')\n",
    "first_reported_top_companies = first_reported['Company'].unique()[:20]\n",
    "df_first_reported = pd.DataFrame()\n",
    "for i in first_reported_top_companies:\n",
    "  company = first_reported.loc[first_reported['Company'] == i]\n",
    "  first_data = company['Product Submitted Date'].iloc[0]\n",
    "  df_first_reported = pd.concat([df_first_reported, pd.DataFrame({'Company': [company['Company'].iloc[0]], 'First Submit': [pd.to_datetime(first_data)], 'Product Name' : company['Product Name'].iloc[0]})], ignore_index=True)\n",
    "\n",
    "df_first_reported"
   ]
  },
  {
   "cell_type": "markdown",
   "metadata": {
    "id": "SKRbpm2p0TXH"
   },
   "source": [
    "## And the last reported?"
   ]
  },
  {
   "cell_type": "code",
   "execution_count": 27,
   "metadata": {
    "colab": {
     "base_uri": "https://localhost:8080/",
     "height": 677
    },
    "id": "R66X5gGB0t4d",
    "outputId": "66d57485-9a8c-4110-a733-be44b21100cd"
   },
   "outputs": [
    {
     "data": {
      "text/html": [
       "<div>\n",
       "<style scoped>\n",
       "    .dataframe tbody tr th:only-of-type {\n",
       "        vertical-align: middle;\n",
       "    }\n",
       "\n",
       "    .dataframe tbody tr th {\n",
       "        vertical-align: top;\n",
       "    }\n",
       "\n",
       "    .dataframe thead th {\n",
       "        text-align: right;\n",
       "    }\n",
       "</style>\n",
       "<table border=\"1\" class=\"dataframe\">\n",
       "  <thead>\n",
       "    <tr style=\"text-align: right;\">\n",
       "      <th></th>\n",
       "      <th>Company</th>\n",
       "      <th>Last Submit</th>\n",
       "      <th>Product Name</th>\n",
       "    </tr>\n",
       "  </thead>\n",
       "  <tbody>\n",
       "    <tr>\n",
       "      <th>0</th>\n",
       "      <td>e.l.f. Cosmetics, Inc.</td>\n",
       "      <td>2023-03-17</td>\n",
       "      <td>Lock On Liner And Brow Cream</td>\n",
       "    </tr>\n",
       "    <tr>\n",
       "      <th>1</th>\n",
       "      <td>JAFRA COSMETICS INTERNATIONAL</td>\n",
       "      <td>2023-03-17</td>\n",
       "      <td>Sun spray on sunscreen broad spectrum SPF 50</td>\n",
       "    </tr>\n",
       "    <tr>\n",
       "      <th>2</th>\n",
       "      <td>Art of Beauty</td>\n",
       "      <td>2023-03-16</td>\n",
       "      <td>Stimulating Citrus Massage Oil</td>\n",
       "    </tr>\n",
       "    <tr>\n",
       "      <th>3</th>\n",
       "      <td>Belcam Inc.</td>\n",
       "      <td>2023-03-16</td>\n",
       "      <td>G'eau Blue_ EDT</td>\n",
       "    </tr>\n",
       "    <tr>\n",
       "      <th>4</th>\n",
       "      <td>Arcadia Beauty Labs LLC</td>\n",
       "      <td>2023-03-16</td>\n",
       "      <td>Strawberry Leopard Semi-Permanent Conditioning...</td>\n",
       "    </tr>\n",
       "    <tr>\n",
       "      <th>5</th>\n",
       "      <td>Well People, Inc.</td>\n",
       "      <td>2023-03-16</td>\n",
       "      <td>Hydrolip Gloss</td>\n",
       "    </tr>\n",
       "    <tr>\n",
       "      <th>6</th>\n",
       "      <td>Juice Beauty</td>\n",
       "      <td>2023-03-16</td>\n",
       "      <td>GREEN APPLE Firming Body Moisturizer</td>\n",
       "    </tr>\n",
       "    <tr>\n",
       "      <th>7</th>\n",
       "      <td>Ruichang Ruimei Cosmetics Co., Ltd</td>\n",
       "      <td>2023-03-16</td>\n",
       "      <td>DTB TW RAINBOW GLOSS WAND .3Z</td>\n",
       "    </tr>\n",
       "    <tr>\n",
       "      <th>8</th>\n",
       "      <td>Yanbal USA, Inc</td>\n",
       "      <td>2023-03-15</td>\n",
       "      <td>ICONO DE YANBAL EAU DE PARFUM</td>\n",
       "    </tr>\n",
       "    <tr>\n",
       "      <th>9</th>\n",
       "      <td>Henkel Corporation</td>\n",
       "      <td>2023-03-15</td>\n",
       "      <td>Weekend Hair Dry Shampoo</td>\n",
       "    </tr>\n",
       "    <tr>\n",
       "      <th>10</th>\n",
       "      <td>Edgewell Personal Care Brands, LLC</td>\n",
       "      <td>2023-03-14</td>\n",
       "      <td>Exfoliating Scalp Scrub + Shampoo</td>\n",
       "    </tr>\n",
       "    <tr>\n",
       "      <th>11</th>\n",
       "      <td>GERMAINE DE CAPUCCINI</td>\n",
       "      <td>2023-03-13</td>\n",
       "      <td>ESSENTIAL TONING LOTION</td>\n",
       "    </tr>\n",
       "    <tr>\n",
       "      <th>12</th>\n",
       "      <td>Revlon Consumer Product Corporation</td>\n",
       "      <td>2023-03-13</td>\n",
       "      <td>John Varvatos eau de toilette spray</td>\n",
       "    </tr>\n",
       "    <tr>\n",
       "      <th>13</th>\n",
       "      <td>Buth-na-Bodhaige, Inc</td>\n",
       "      <td>2023-03-13</td>\n",
       "      <td>HEMP HARD-WORKING HAND PROTECTOR</td>\n",
       "    </tr>\n",
       "    <tr>\n",
       "      <th>14</th>\n",
       "      <td>Miniso Depot CA Inc</td>\n",
       "      <td>2023-03-13</td>\n",
       "      <td>SuperFood Series</td>\n",
       "    </tr>\n",
       "    <tr>\n",
       "      <th>15</th>\n",
       "      <td>KIKO S.p.A</td>\n",
       "      <td>2023-03-10</td>\n",
       "      <td>FULL COVERAGE BLURRING POWDER FOUNDATION</td>\n",
       "    </tr>\n",
       "    <tr>\n",
       "      <th>16</th>\n",
       "      <td>Victoria's Secret Beauty</td>\n",
       "      <td>2023-03-10</td>\n",
       "      <td>Victoria's Secret Cloud Body Cream Heavenly</td>\n",
       "    </tr>\n",
       "    <tr>\n",
       "      <th>17</th>\n",
       "      <td>Davines S.p.A.</td>\n",
       "      <td>2023-03-10</td>\n",
       "      <td>DAVINES - Hair Refresher</td>\n",
       "    </tr>\n",
       "    <tr>\n",
       "      <th>18</th>\n",
       "      <td>Richemont North America</td>\n",
       "      <td>2023-03-10</td>\n",
       "      <td>LA PANTHERE NOIR ABSOLU</td>\n",
       "    </tr>\n",
       "    <tr>\n",
       "      <th>19</th>\n",
       "      <td>INGLOT USA LLC</td>\n",
       "      <td>2023-03-10</td>\n",
       "      <td>FREEDOM SYSTEM LIPSTICK MATTE 513</td>\n",
       "    </tr>\n",
       "  </tbody>\n",
       "</table>\n",
       "</div>"
      ],
      "text/plain": [
       "                                Company Last Submit  \\\n",
       "0                e.l.f. Cosmetics, Inc.  2023-03-17   \n",
       "1         JAFRA COSMETICS INTERNATIONAL  2023-03-17   \n",
       "2                         Art of Beauty  2023-03-16   \n",
       "3                           Belcam Inc.  2023-03-16   \n",
       "4               Arcadia Beauty Labs LLC  2023-03-16   \n",
       "5                     Well People, Inc.  2023-03-16   \n",
       "6                          Juice Beauty  2023-03-16   \n",
       "7    Ruichang Ruimei Cosmetics Co., Ltd  2023-03-16   \n",
       "8                       Yanbal USA, Inc  2023-03-15   \n",
       "9                    Henkel Corporation  2023-03-15   \n",
       "10   Edgewell Personal Care Brands, LLC  2023-03-14   \n",
       "11                GERMAINE DE CAPUCCINI  2023-03-13   \n",
       "12  Revlon Consumer Product Corporation  2023-03-13   \n",
       "13                Buth-na-Bodhaige, Inc  2023-03-13   \n",
       "14                  Miniso Depot CA Inc  2023-03-13   \n",
       "15                           KIKO S.p.A  2023-03-10   \n",
       "16             Victoria's Secret Beauty  2023-03-10   \n",
       "17                       Davines S.p.A.  2023-03-10   \n",
       "18              Richemont North America  2023-03-10   \n",
       "19                       INGLOT USA LLC  2023-03-10   \n",
       "\n",
       "                                         Product Name  \n",
       "0                        Lock On Liner And Brow Cream  \n",
       "1        Sun spray on sunscreen broad spectrum SPF 50  \n",
       "2                      Stimulating Citrus Massage Oil  \n",
       "3                                     G'eau Blue_ EDT  \n",
       "4   Strawberry Leopard Semi-Permanent Conditioning...  \n",
       "5                                      Hydrolip Gloss  \n",
       "6                GREEN APPLE Firming Body Moisturizer  \n",
       "7                      DTB TW RAINBOW GLOSS WAND .3Z   \n",
       "8                       ICONO DE YANBAL EAU DE PARFUM  \n",
       "9                            Weekend Hair Dry Shampoo  \n",
       "10                  Exfoliating Scalp Scrub + Shampoo  \n",
       "11                            ESSENTIAL TONING LOTION  \n",
       "12                John Varvatos eau de toilette spray  \n",
       "13                   HEMP HARD-WORKING HAND PROTECTOR  \n",
       "14                                  SuperFood Series   \n",
       "15          FULL COVERAGE BLURRING POWDER FOUNDATION   \n",
       "16        Victoria's Secret Cloud Body Cream Heavenly  \n",
       "17                           DAVINES - Hair Refresher  \n",
       "18                            LA PANTHERE NOIR ABSOLU  \n",
       "19                  FREEDOM SYSTEM LIPSTICK MATTE 513  "
      ]
     },
     "execution_count": 27,
     "metadata": {},
     "output_type": "execute_result"
    }
   ],
   "source": [
    "last_reported = df_final.sort_values(by='Product Submitted Date', ascending=False)\n",
    "last_reported_top_companies = last_reported['Company'].unique()[:20]\n",
    "df_last_reported = pd.DataFrame()\n",
    "for i in last_reported_top_companies:\n",
    "  company = last_reported.loc[last_reported['Company'] == i]\n",
    "  last_data = company['Product Submitted Date'].iloc[0]\n",
    "  df_last_reported = pd.concat([df_last_reported, pd.DataFrame({'Company': [company['Company'].iloc[0]], 'Last Submit': [pd.to_datetime(last_data)], 'Product Name' : company['Product Name'].iloc[0]})], ignore_index=True)\n",
    "\n",
    "df_last_reported"
   ]
  },
  {
   "cell_type": "markdown",
   "metadata": {
    "id": "ITwOfvPj2roO"
   },
   "source": [
    "## How many companies and brands reported potentially harmful ingredients?"
   ]
  },
  {
   "cell_type": "code",
   "execution_count": 28,
   "metadata": {
    "colab": {
     "base_uri": "https://localhost:8080/"
    },
    "id": "dM4CXI552uBh",
    "outputId": "be429306-e5d2-4484-9f73-11b23118c49a"
   },
   "outputs": [
    {
     "name": "stdout",
     "output_type": "stream",
     "text": [
      "The database includes 3078 brands of 846 companies.\n"
     ]
    }
   ],
   "source": [
    "total_companies = df_final['Company'].nunique()\n",
    "total_brands = df_final['Brand'].nunique()\n",
    "print(f'The database includes {total_brands} brands of {total_companies} companies.') "
   ]
  },
  {
   "cell_type": "markdown",
   "metadata": {
    "id": "d08MCkDCVIG7"
   },
   "source": [
    "## How many products unique were reported?"
   ]
  },
  {
   "cell_type": "code",
   "execution_count": 29,
   "metadata": {
    "colab": {
     "base_uri": "https://localhost:8080/"
    },
    "id": "RP3RHoh-eRIs",
    "outputId": "83881079-4fc6-4c93-a741-0ba4d2690d19"
   },
   "outputs": [
    {
     "name": "stdout",
     "output_type": "stream",
     "text": [
      "The database contains 119221 unique products\n"
     ]
    }
   ],
   "source": [
    "total_products = df_final['Product Id'].nunique()\n",
    "print(f'The database contains {total_products} unique products') "
   ]
  },
  {
   "cell_type": "markdown",
   "metadata": {
    "id": "PKcWHH-aTDWf"
   },
   "source": [
    "## How many ingredients unique were reported"
   ]
  },
  {
   "cell_type": "code",
   "execution_count": 30,
   "metadata": {
    "colab": {
     "base_uri": "https://localhost:8080/"
    },
    "id": "FhNzK5fedXkR",
    "outputId": "99c905cd-1388-4db2-c587-ad8d152efe53"
   },
   "outputs": [
    {
     "name": "stdout",
     "output_type": "stream",
     "text": [
      "The database contains 323 unique ingredients\n"
     ]
    }
   ],
   "source": [
    "unique_ingredients = df_final['Ingredient Name'].nunique()\n",
    "print(f'The database contains {unique_ingredients} unique ingredients') "
   ]
  },
  {
   "cell_type": "markdown",
   "metadata": {
    "id": "IhuIQuX8eu88"
   },
   "source": [
    "## What are the 20 companies that reported the largest number of products?"
   ]
  },
  {
   "cell_type": "code",
   "execution_count": 31,
   "metadata": {
    "colab": {
     "base_uri": "https://localhost:8080/"
    },
    "id": "UfXq4q2fxBAG",
    "outputId": "abab0430-313a-4479-8cf1-fca1f3085ee3"
   },
   "outputs": [
    {
     "data": {
      "text/plain": [
       "Company\n",
       "Bath & Body Works                            2365\n",
       "American International Industries            1878\n",
       "Nail Alliance - Entity                       1869\n",
       "L'Oreal USA                                  1768\n",
       "The Procter & Gamble Company (Cincinnati)    1462\n",
       "Revlon Consumer Product Corporation          1409\n",
       "AMOREPACIFIC US INC.                         1377\n",
       "Buth-na-Bodhaige, Inc                        1316\n",
       "Victoria's Secret Beauty                     1314\n",
       "Conopco, Inc.                                1152\n",
       "Coty                                          939\n",
       "Hand & Nail Harmony, Inc                      876\n",
       "Anastasia Beverly Hills, LLC                  861\n",
       "S+                                            758\n",
       "Lush Ltd                                      722\n",
       "Arcadia Beauty Labs LLC                       684\n",
       "New Avon LLC                                  671\n",
       "Too Faced Cosmetics                           569\n",
       "LABORATOIRES M&L                              568\n",
       "Lush Manufacturing Ltd.                       531\n",
       "Name: Product Name, dtype: int64"
      ]
     },
     "execution_count": 31,
     "metadata": {},
     "output_type": "execute_result"
    }
   ],
   "source": [
    "products_by_company = df.groupby('Company')['Product Name'].nunique().sort_values(ascending=False)\n",
    "products_by_company.head(20)"
   ]
  },
  {
   "cell_type": "markdown",
   "metadata": {
    "id": "ucPNnNA1hJh9"
   },
   "source": [
    "## What are the 20 companies that reported the largest number of ingredients?"
   ]
  },
  {
   "cell_type": "code",
   "execution_count": 32,
   "metadata": {
    "colab": {
     "base_uri": "https://localhost:8080/"
    },
    "id": "ds6-Fl2vv98O",
    "outputId": "44b690f5-1197-43fa-96f6-f6cb82946f9d"
   },
   "outputs": [
    {
     "data": {
      "text/plain": [
       "Company\n",
       "AMOREPACIFIC US INC.                         56\n",
       "Universal Beauty Products, Inc.              54\n",
       "The Procter & Gamble Company (Cincinnati)    54\n",
       "Charlotte Tilbury Beauty Ltd                 48\n",
       "Miniso Depot CA Inc                          48\n",
       "L'Oreal USA                                  48\n",
       "Victoria's Secret Beauty                     47\n",
       "Henkel Corporation                           46\n",
       "Parfums de Coeur, Ltd., d/b/a PDC Brands     46\n",
       "Kao USA Inc.                                 46\n",
       "LE PARFUMEUR SAS                             46\n",
       "GUERLAIN                                     45\n",
       "Johnson & Johnson Consumer, Inc              45\n",
       "Molton Brown Ltd                             45\n",
       "COLGATE-PALMOLIVE COMPANY                    45\n",
       "Arcadia Beauty Labs LLC                      43\n",
       "THG Beauty Limited                           42\n",
       "United Natural Foods, Inc                    42\n",
       "Bath & Body Works                            41\n",
       "Conopco, Inc.                                41\n",
       "Name: Ingredient Name, dtype: int64"
      ]
     },
     "execution_count": 32,
     "metadata": {},
     "output_type": "execute_result"
    }
   ],
   "source": [
    "ingredients_by_company = df.groupby(['Company'])['Ingredient Name'].nunique().sort_values(ascending=False)\n",
    "ingredients_by_company.head(20)"
   ]
  },
  {
   "cell_type": "markdown",
   "metadata": {
    "id": "BL_GaxGAhiDk"
   },
   "source": [
    "## What are the top 5 reported ingredients?"
   ]
  },
  {
   "cell_type": "code",
   "execution_count": 33,
   "metadata": {
    "colab": {
     "base_uri": "https://localhost:8080/"
    },
    "id": "6vHIk5f5hjlB",
    "outputId": "0128c761-be51-49d8-c77b-7aeed0c4816a"
   },
   "outputs": [
    {
     "data": {
      "text/plain": [
       "Ingredient Name\n",
       "Titanium dioxide (CI 77891) 13463-67-7 / 1317-70-0 / 1317-80-2 / 98084-96-9    108701\n",
       "Limonene 5989-27-5                                                              35719\n",
       "LINALOOL                                                                        24585\n",
       "Benzyl salicylate 118-58-1                                                      12833\n",
       "CITRONELLOL                                                                     12075\n",
       "Name: Ingredient Name, dtype: int64"
      ]
     },
     "execution_count": 33,
     "metadata": {},
     "output_type": "execute_result"
    }
   ],
   "source": [
    "df_final.groupby(['Ingredient Name'])['Ingredient Name'].size().sort_values(ascending=False).head(5)"
   ]
  },
  {
   "cell_type": "markdown",
   "metadata": {
    "id": "WMEtrfEzi0tb"
   },
   "source": [
    "## Reported ingredients vs. Removed Ingredients"
   ]
  },
  {
   "cell_type": "code",
   "execution_count": 34,
   "metadata": {
    "colab": {
     "base_uri": "https://localhost:8080/"
    },
    "id": "q5NY3fgCi855",
    "outputId": "ba9effb5-a1f8-4138-e89c-e4d168fa75b5"
   },
   "outputs": [
    {
     "name": "stdout",
     "output_type": "stream",
     "text": [
      "There are 56694 reported products. In 1535 products, have already been the ingredient removed\n"
     ]
    }
   ],
   "source": [
    "total_reported_products = df_final['Product Name'].nunique()\n",
    "clean_products = df_final.loc[df_final['Ingredient Removed'] == True]\n",
    "total_reported_products\n",
    "total_removed_ingredients = clean_products['Product Name'].nunique()\n",
    "print(f'There are {total_reported_products} reported products. In {total_removed_ingredients} products, have already been the ingredient removed')"
   ]
  },
  {
   "cell_type": "markdown",
   "metadata": {
    "id": "LEXV35jRqaXS"
   },
   "source": [
    "## What products are already cleaned for potentially harmful ingredients?"
   ]
  },
  {
   "cell_type": "code",
   "execution_count": 35,
   "metadata": {
    "colab": {
     "base_uri": "https://localhost:8080/",
     "height": 332
    },
    "id": "7zNaF1nDzOlT",
    "outputId": "ab0d6e9c-7cb5-4a74-f810-df072b7b6541"
   },
   "outputs": [
    {
     "data": {
      "text/html": [
       "<div>\n",
       "<style scoped>\n",
       "    .dataframe tbody tr th:only-of-type {\n",
       "        vertical-align: middle;\n",
       "    }\n",
       "\n",
       "    .dataframe tbody tr th {\n",
       "        vertical-align: top;\n",
       "    }\n",
       "\n",
       "    .dataframe thead th {\n",
       "        text-align: right;\n",
       "    }\n",
       "</style>\n",
       "<table border=\"1\" class=\"dataframe\">\n",
       "  <thead>\n",
       "    <tr style=\"text-align: right;\">\n",
       "      <th></th>\n",
       "      <th>Product Id</th>\n",
       "      <th>Product Name</th>\n",
       "      <th>Variant</th>\n",
       "      <th>Discontinued</th>\n",
       "      <th>Brand</th>\n",
       "      <th>Company</th>\n",
       "      <th>Ingredient Name</th>\n",
       "      <th>Function</th>\n",
       "      <th>Unit of Measure</th>\n",
       "      <th>Concentration</th>\n",
       "      <th>Ingredient Removed</th>\n",
       "      <th>Ingredient Submitted Date</th>\n",
       "      <th>Ingredient Removed Date</th>\n",
       "      <th>UPC</th>\n",
       "      <th>Product Submitted Date</th>\n",
       "      <th>Product Discontinued Date</th>\n",
       "      <th>Product Category</th>\n",
       "      <th>Product Form</th>\n",
       "      <th>Body Area</th>\n",
       "      <th>Intended Market</th>\n",
       "    </tr>\n",
       "  </thead>\n",
       "  <tbody>\n",
       "    <tr>\n",
       "      <th>343915</th>\n",
       "      <td>34864</td>\n",
       "      <td>TITANIUM DIOXIDE</td>\n",
       "      <td>WHITE</td>\n",
       "      <td>False</td>\n",
       "      <td>SUN CHEMICAL</td>\n",
       "      <td>NINGBO MEITELI COSMETICS CO.,LTD.</td>\n",
       "      <td>Isopropyl alcohol manufacture using strong acids</td>\n",
       "      <td>NaN</td>\n",
       "      <td>mg/g</td>\n",
       "      <td>4.50</td>\n",
       "      <td>True</td>\n",
       "      <td>2018-10-31</td>\n",
       "      <td>2018-11-01</td>\n",
       "      <td>Not Available</td>\n",
       "      <td>2018-10-31</td>\n",
       "      <td>NaT</td>\n",
       "      <td>Lip Balm (making a cosmetic claim)</td>\n",
       "      <td>Powder</td>\n",
       "      <td>Nails</td>\n",
       "      <td>Not Available</td>\n",
       "    </tr>\n",
       "    <tr>\n",
       "      <th>71147</th>\n",
       "      <td>95893</td>\n",
       "      <td>Cantu Shea Butter for Natural Hair Curl Stretc...</td>\n",
       "      <td>NaN</td>\n",
       "      <td>False</td>\n",
       "      <td>Cantu</td>\n",
       "      <td>Parfums de Coeur, Ltd., d/b/a PDC Brands</td>\n",
       "      <td>Isopropyl Alcohol</td>\n",
       "      <td>Other (Specify)</td>\n",
       "      <td>Percent</td>\n",
       "      <td>0.46</td>\n",
       "      <td>True</td>\n",
       "      <td>2022-01-28</td>\n",
       "      <td>2022-06-22</td>\n",
       "      <td>817513017469</td>\n",
       "      <td>2022-01-28</td>\n",
       "      <td>NaT</td>\n",
       "      <td>Hair Conditioners (rinse-out)</td>\n",
       "      <td>Cream/Gel/Foam</td>\n",
       "      <td>Hair or Scalp</td>\n",
       "      <td>General population</td>\n",
       "    </tr>\n",
       "  </tbody>\n",
       "</table>\n",
       "</div>"
      ],
      "text/plain": [
       "        Product Id                                       Product Name Variant  \\\n",
       "343915       34864                                   TITANIUM DIOXIDE   WHITE   \n",
       "71147        95893  Cantu Shea Butter for Natural Hair Curl Stretc...     NaN   \n",
       "\n",
       "        Discontinued         Brand                                   Company  \\\n",
       "343915         False  SUN CHEMICAL         NINGBO MEITELI COSMETICS CO.,LTD.   \n",
       "71147          False         Cantu  Parfums de Coeur, Ltd., d/b/a PDC Brands   \n",
       "\n",
       "                                          Ingredient Name         Function  \\\n",
       "343915  Isopropyl alcohol manufacture using strong acids               NaN   \n",
       "71147                                  Isopropyl Alcohol   Other (Specify)   \n",
       "\n",
       "       Unit of Measure  Concentration  Ingredient Removed  \\\n",
       "343915            mg/g           4.50                True   \n",
       "71147          Percent           0.46                True   \n",
       "\n",
       "       Ingredient Submitted Date Ingredient Removed Date            UPC  \\\n",
       "343915                2018-10-31              2018-11-01  Not Available   \n",
       "71147                 2022-01-28              2022-06-22   817513017469   \n",
       "\n",
       "       Product Submitted Date Product Discontinued Date  \\\n",
       "343915             2018-10-31                       NaT   \n",
       "71147              2022-01-28                       NaT   \n",
       "\n",
       "                          Product Category    Product Form      Body Area  \\\n",
       "343915  Lip Balm (making a cosmetic claim)          Powder          Nails   \n",
       "71147        Hair Conditioners (rinse-out)  Cream/Gel/Foam  Hair or Scalp   \n",
       "\n",
       "           Intended Market  \n",
       "343915       Not Available  \n",
       "71147   General population  "
      ]
     },
     "execution_count": 35,
     "metadata": {},
     "output_type": "execute_result"
    }
   ],
   "source": [
    "clean_products = df_final.loc[df_final['Ingredient Removed'] == True]\n",
    "clean_products.sample(2)"
   ]
  },
  {
   "cell_type": "markdown",
   "metadata": {
    "id": "YSiOsYqArHiU"
   },
   "source": [
    "## Export database to excel"
   ]
  },
  {
   "cell_type": "code",
   "execution_count": 36,
   "metadata": {
    "id": "RPq2k6WWrHUS"
   },
   "outputs": [],
   "source": [
    "clean_products.to_excel(r'clean_products.xlsx')"
   ]
  }
 ],
 "metadata": {
  "colab": {
   "provenance": []
  },
  "kernelspec": {
   "display_name": "Python 3 (ipykernel)",
   "language": "python",
   "name": "python3"
  },
  "language_info": {
   "codemirror_mode": {
    "name": "ipython",
    "version": 3
   },
   "file_extension": ".py",
   "mimetype": "text/x-python",
   "name": "python",
   "nbconvert_exporter": "python",
   "pygments_lexer": "ipython3",
   "version": "3.9.13"
  }
 },
 "nbformat": 4,
 "nbformat_minor": 1
}
